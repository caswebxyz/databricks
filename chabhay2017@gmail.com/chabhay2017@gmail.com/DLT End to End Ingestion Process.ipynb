{
 "cells": [
  {
   "cell_type": "code",
   "execution_count": 0,
   "metadata": {
    "application/vnd.databricks.v1+cell": {
     "cellMetadata": {
      "byteLimit": 2048000,
      "rowLimit": 10000
     },
     "inputWidgets": {},
     "nuid": "eb92387a-2fef-48a9-a696-8ef68643fe9f",
     "showTitle": false,
     "tableResultSettingsMap": {},
     "title": ""
    }
   },
   "outputs": [],
   "source": [
    "import dlt\n",
    "from pyspark.sql import functions as F\n",
    "from pyspark.sql.functions import col,expr,lit\n",
    "from pyspark.sql.types import StructType, StringType, StructField, IntegerType\n",
    "from pyspark.sql.session import SparkSession"
   ]
  },
  {
   "cell_type": "code",
   "execution_count": 0,
   "metadata": {
    "application/vnd.databricks.v1+cell": {
     "cellMetadata": {
      "byteLimit": 2048000,
      "rowLimit": 10000
     },
     "inputWidgets": {},
     "nuid": "6aa2ee12-8e86-4a8a-a504-38ecb878b0ea",
     "showTitle": false,
     "tableResultSettingsMap": {},
     "title": ""
    }
   },
   "outputs": [],
   "source": [
    "schema = StructType(\n",
    "    [\n",
    "        StructField(\"circuitId\", IntegerType(), False),\n",
    "        StructField(\"circuitRef\", StringType(), False),\n",
    "        StructField(\"name\", StringType(), False),\n",
    "        StructField(\"location\", StringType(), False),\n",
    "        StructField(\"country\", StringType(), False),\n",
    "        StructField(\"lat\", StringType(), False),\n",
    "        StructField(\"lng\", StringType(), False),\n",
    "        StructField(\"alt\", StringType(), False),\n",
    "        StructField(\"url\", StringType(), False)\n",
    "    ]\n",
    ")\n",
    "\n",
    "cloud_file_options = {\n",
    "    \"cloudFiles.format\":\"csv\",\n",
    "    \"header\": True\n",
    "}"
   ]
  },
  {
   "cell_type": "code",
   "execution_count": 0,
   "metadata": {
    "application/vnd.databricks.v1+cell": {
     "cellMetadata": {
      "byteLimit": 2048000,
      "rowLimit": 10000
     },
     "inputWidgets": {},
     "nuid": "bf9d57c3-33a2-44a2-8803-0d9c542a42a7",
     "showTitle": false,
     "tableResultSettingsMap": {},
     "title": ""
    }
   },
   "outputs": [],
   "source": [
    "@dlt.table(\n",
    "    name=\"brz_table_circuit\"\n",
    ")\n",
    "def bronze_load():\n",
    "    df=spark.readStream.format(\"cloudFiles\").options(**cloud_file_options).schema(schema).load(\"/Volumes/awsdbx_w1_2358208440317044/default/end2end/\")\n",
    "    df=df.withColumn(\"file_processed_date\",F.date_format(F.current_timestamp(),\"yyyy-MM-dd HH:mm:ss\"))\n",
    "    return df\n"
   ]
  },
  {
   "cell_type": "code",
   "execution_count": 0,
   "metadata": {
    "application/vnd.databricks.v1+cell": {
     "cellMetadata": {},
     "inputWidgets": {},
     "nuid": "663ebf4a-e1bf-4aef-a7b6-addb347da6cb",
     "showTitle": false,
     "tableResultSettingsMap": {},
     "title": ""
    }
   },
   "outputs": [],
   "source": [
    "checks = {}\n",
    "checks[\"validate col circuitId for null vlaues\"] = \"(circuitId is not null)\"\n",
    "checks[\"validate col name for null values\"] = \"(name is not null)\"\n",
    "dq_rules = \"({0})\".format(\" and \".join(checks.values()))"
   ]
  },
  {
   "cell_type": "code",
   "execution_count": 0,
   "metadata": {
    "application/vnd.databricks.v1+cell": {
     "cellMetadata": {},
     "inputWidgets": {},
     "nuid": "47b676ab-8c86-40f8-aceb-ec28a7453e7c",
     "showTitle": false,
     "tableResultSettingsMap": {},
     "title": ""
    }
   },
   "outputs": [],
   "source": [
    "@dlt.table(\n",
    "    name=\"stag_silver_load_circuit\",\n",
    ")\n",
    "@dlt.expect_all(checks)\n",
    "def stag_silver_table():\n",
    "    df = dlt.readStream(\"brz_table_circuit\")\n",
    "    df=df.withColumn(\"dq_check\",F.expr(dq_rules)).filter(\"dq_check=true\")\n",
    "    return df"
   ]
  },
  {
   "cell_type": "code",
   "execution_count": 0,
   "metadata": {
    "application/vnd.databricks.v1+cell": {
     "cellMetadata": {},
     "inputWidgets": {},
     "nuid": "8c9b3467-5542-4c07-8c92-eaea9ec90061",
     "showTitle": false,
     "tableResultSettingsMap": {},
     "title": ""
    }
   },
   "outputs": [],
   "source": [
    "dlt.create_streaming_table(name=\"silver_load_circuit\")\n",
    "dlt.apply_changes(\n",
    "    target = \"silver_load_circuit\",\n",
    "    source = \"stag_silver_load_circuit\",\n",
    "    keys=[\"circuitId\"],\n",
    "    stored_as_scd_type=\"1\",\n",
    "    sequence_by = \"file_processed_date\"\n",
    ")"
   ]
  },
  {
   "cell_type": "code",
   "execution_count": 0,
   "metadata": {
    "application/vnd.databricks.v1+cell": {
     "cellMetadata": {},
     "inputWidgets": {},
     "nuid": "b992856a-a084-459f-9ff3-5c9aa32d9aad",
     "showTitle": false,
     "tableResultSettingsMap": {},
     "title": ""
    }
   },
   "outputs": [],
   "source": [
    "@dlt.table(\n",
    "    name=\"err_silver_load_circuit\"\n",
    ")\n",
    "@dlt.expect_all(checks)\n",
    "def err_silver_load_circuit():\n",
    "    df = dlt.readStream(\"brz_table_circuit\")\n",
    "    df = df.withColumn(\"dq_check\",F.expr(dq_rules)).filter(\"dq_check=false\")\n",
    "    return df"
   ]
  }
 ],
 "metadata": {
  "application/vnd.databricks.v1+notebook": {
   "computePreferences": null,
   "dashboards": [],
   "environmentMetadata": {
    "base_environment": "",
    "client": "2"
   },
   "language": "python",
   "notebookMetadata": {
    "pythonIndentUnit": 4
   },
   "notebookName": "DLT End to End Ingestion Process",
   "widgets": {}
  },
  "language_info": {
   "name": "python"
  }
 },
 "nbformat": 4,
 "nbformat_minor": 0
}
